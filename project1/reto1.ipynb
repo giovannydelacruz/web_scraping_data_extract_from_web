{
 "cells": [
  {
   "cell_type": "code",
   "execution_count": 5,
   "metadata": {},
   "outputs": [],
   "source": [
    "import requests\n",
    "from bs4 import BeautifulSoup"
   ]
  },
  {
   "cell_type": "code",
   "execution_count": 45,
   "metadata": {},
   "outputs": [],
   "source": [
    "def list_with_links(url):\n",
    "    p = requests.get(url)\n",
    "    s = BeautifulSoup(p.text, \"lxml\")\n",
    "\n",
    "    secciones = s.find('div', \n",
    "                       attrs={'class':'l-container l-container--wrapper'}\n",
    "                       ).find_all('article')\n",
    "    \n",
    "    return [seccion.a.get(\"href\") for seccion in secciones]"
   ]
  },
  {
   "cell_type": "code",
   "execution_count": 51,
   "metadata": {},
   "outputs": [
    {
     "name": "stdout",
     "output_type": "stream",
     "text": [
      "https://www.3djuegos.com/juegos/pokemon-escarlata-purpura/noticias/proximo-parche-pokemon-escarlata-purpura-hace-dificil-mision-imposible-cazar-pokemon-shiny-se-complicara-todavia\n",
      "\n",
      "https://www.3djuegos.com/juegos/call-of-duty-modern-warfare-2-2022/noticias/no-solucion-viable-microsoft-rechaza-propuesta-para-cerrar-compra-activision-blizzard-obligara-a-organismos-reguladores-a-tomar-decision\n",
      "\n",
      "https://www.3djuegos.com/tv-series/noticias/guionista-elite-serie-instituto-orgias-asesinatos-anuales-considera-que-the-last-of-us-aburrido\n",
      "\n",
      "https://www.3djuegos.com/juegos/league-of-legends/noticias/hariamos-muchas-cosas-forma-diferente-riot-games-se-arrepiente-gran-cambio-que-llego-a-league-of-legends-hace-apenas-ano\n",
      "\n",
      "https://www.3djuegos.com/tv-series/noticias/a-tercera-puede-ir-vencida-tom-hardy-confirma-que-esta-preproduccion-nueva-pelicula-venom\n",
      "\n",
      "https://www.3djuegos.com/juegos/civilization-vi/noticias/uno-mejores-juegos-estrategia-todos-tiempos-ahora-esta-oferta-90-descuento-steam-debes-darte-prisa-quieres-hacerte\n",
      "\n",
      "https://www.3djuegos.com/tv-series/noticias/mucho-que-chica-que-mira-a-ellie-quien-paolina-van-kleef-actriz-que-puede-ser-clave-segunda-temporada-the-last-of-us\n",
      "\n",
      "https://www.espinof.com/netflix/netflix-deja-paso-a-youtube-invierten-sus-creadores-su-audiencia-sorprendentemente-similar?utm_source=3djuegos&utm_medium=network&utm_campaign=repost\n",
      "\n",
      "https://www.3djuegos.com/moviles/noticias/uno-juegos-exitosos-historia-pronto-desaparecera-para-siempre-peor-motivo-posible-adios-al-angry-birds-original\n",
      "\n",
      "https://www.3djuegos.com/industria-gaming/noticias/ofrecemos-mejor-trato-para-sony-que-que-tienen-ahora-activision-blizzard-playstation-esta-a-meses-terminar-su-acuerdo-autores-call-of-duty\n",
      "\n",
      "/juegos/atomic-heart/noticias/boicot-a-atomic-heart-autoridades-ucrania-no-quieren-oir-hablar-juego-tomaran-cartas-asunto\n",
      "\n",
      "/juegos/suicide-squad-kill-the-justice-league/noticias/anunciado-nuevo-state-of-play-fecha-hora-para-evento-playstation-donde-sabemos-que-estara-suicide-squad-kill-the-justice-league\n",
      "\n",
      "/juegos/kirbys-return-to-dream-land-deluxe/analisis/encantador-que-no-he-podido-dejar-jugar-que-he-terminado-analisis-kirbys-return-to-dream-land-deluxe\n",
      "\n",
      "/juegos/elderand/analisis/empece-odiando-este-juego-acabe-enganchado-a-final-su-accion-metroidvania-detalles-castlevania\n",
      "\n",
      "/juegos/spellforce-conquest-of-eo/analisis/este-juego-tiene-poco-estrategia-al-estilo-civilization-accion-xcom-alma-rpg-fantasia-analisis-spellforce-conquest-of-eo\n",
      "\n",
      "/juegos/company-of-heroes-3/analisis/juego-estrategia-destructivo-espectacular-que-recuerdo-analisis-company-of-heroes-3\n",
      "\n",
      "/juegos/atomic-heart/analisis/dificil-hacer-juego-accion-rpg-mundo-abierto-espectacular-analisis-atomic-heart\n",
      "\n",
      "/juegos/octopath-traveler-2/analisis/jrpg-clasico-que-amas-echas-esta-aqui-justo-que-buscabas-analisis-octopath-traveler-ii\n",
      "\n"
     ]
    }
   ],
   "source": [
    "if __name__ == \"__main__\":\n",
    "    url = \"https://www.3djuegos.com/\"\n",
    "    links = list_with_links(url)\n",
    "    for link in links:\n",
    "        print(link+\"\\n\")"
   ]
  }
 ],
 "metadata": {
  "kernelspec": {
   "display_name": "base",
   "language": "python",
   "name": "python3"
  },
  "language_info": {
   "codemirror_mode": {
    "name": "ipython",
    "version": 3
   },
   "file_extension": ".py",
   "mimetype": "text/x-python",
   "name": "python",
   "nbconvert_exporter": "python",
   "pygments_lexer": "ipython3",
   "version": "3.9.12"
  },
  "orig_nbformat": 4,
  "vscode": {
   "interpreter": {
    "hash": "40d3a090f54c6569ab1632332b64b2c03c39dcf918b08424e98f38b5ae0af88f"
   }
  }
 },
 "nbformat": 4,
 "nbformat_minor": 2
}
